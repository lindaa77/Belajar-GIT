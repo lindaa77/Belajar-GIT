{
  "nbformat": 4,
  "nbformat_minor": 0,
  "metadata": {
    "colab": {
      "provenance": []
    },
    "kernelspec": {
      "name": "python3",
      "display_name": "Python 3"
    },
    "language_info": {
      "name": "python"
    }
  },
  "cells": [
    {
      "cell_type": "markdown",
      "source": [
        "Assignment dan dataset : https://drive.google.com/drive/folders/1PZAfEthz7VXFgSpNdj--AdIX-bLmr7My?usp=sharing\n",
        "\n",
        "Task 1: Basic OOP\n",
        "Buatlah class MarketingDataETL yang memiliki tiga metode:\n",
        "\n",
        "extract(): akan membaca data dari sebuah file CSV (Misalkan, marketing_data.csv)\n",
        "transform(): akan melakukan pembersihan dan transformasi sederhana pada data (seperti mengubah format tanggal atau membersihkan nilai yang kosong)\n",
        "store(): akan menyimpan data yang telah ditransformasi ke dalam struktur data DataFramet."
      ],
      "metadata": {
        "id": "zSoOV1pwMiNN"
      }
    },
    {
      "cell_type": "code",
      "execution_count": null,
      "metadata": {
        "colab": {
          "base_uri": "https://localhost:8080/"
        },
        "id": "IfX8_E7KfUD3",
        "outputId": "f93ec03d-eb74-461c-fe55-cdc6df5c3b04"
      },
      "outputs": [
        {
          "output_type": "stream",
          "name": "stdout",
          "text": [
            "  customer_id purchase_date product_category  amount_spent\n",
            "0        C001      01/03/23      Electronics        250.00\n",
            "1        C002      02/03/23            Books         45.50\n",
            "2        C003      03/03/23    Home & Garden        150.75\n",
            "3        C001      04/03/23            Books         20.00\n",
            "4        C002      05/03/23      Electronics        525.00\n",
            "5        C004           NaN      Electronics        399.99\n",
            "6        C003           NaN            Books         10.50\n",
            "7        C005      07/03/23           Beauty         75.00\n"
          ]
        }
      ],
      "source": [
        "#extract(): akan membaca data dari sebuah file CSV (Misalkan, marketing_data.csv)\n",
        "import pandas as pd\n",
        "\n",
        "# Define the URL of the CSV file\n",
        "url = \"https://drive.google.com/uc?id=13wg8hC7kpMSzNeS2c27dTKplRKkLgNfn\"\n",
        "\n",
        "# Read the CSV file into a pandas DataFrame\n",
        "df = pd.read_csv(url, delimiter=';')\n",
        "\n",
        "# Display the DataFrame\n",
        "print(df)"
      ]
    },
    {
      "cell_type": "code",
      "source": [
        "#transform(): akan melakukan pembersihan dan transformasi sederhana pada data (seperti mengubah format tanggal atau membersihkan nilai yang kosong)\n",
        "df.dropna(inplace=True)\n",
        "df['purchase_date'] = pd.to_datetime(df['purchase_date'], format='%d/%m/%y')\n",
        "df['purchase_date'] = df['purchase_date'].dt.strftime('%Y-%m-%d')\n",
        "print(df)"
      ],
      "metadata": {
        "colab": {
          "base_uri": "https://localhost:8080/"
        },
        "id": "bbGdAB5XmK1H",
        "outputId": "7d805c79-3737-4d88-c067-7a4036c90659"
      },
      "execution_count": null,
      "outputs": [
        {
          "output_type": "stream",
          "name": "stdout",
          "text": [
            "  customer_id purchase_date product_category  amount_spent\n",
            "0        C001    2023-03-01      Electronics        250.00\n",
            "1        C002    2023-03-02            Books         45.50\n",
            "2        C003    2023-03-03    Home & Garden        150.75\n",
            "3        C001    2023-03-04            Books         20.00\n",
            "4        C002    2023-03-05      Electronics        525.00\n",
            "7        C005    2023-03-07           Beauty         75.00\n"
          ]
        }
      ]
    },
    {
      "cell_type": "code",
      "source": [
        "#store(): akan menyimpan data yang telah ditransformasi ke dalam struktur data DataFrame\n",
        "output_file = \"OPP_update.csv\"\n",
        "df.to_csv(output_file, index=False)\n",
        "print(\"Data has been successfully saved to file name as\", output_file)\n",
        "\n",
        "df_new = pd.read_csv(\"OPP_update.csv\")\n",
        "print(df_new)"
      ],
      "metadata": {
        "colab": {
          "base_uri": "https://localhost:8080/"
        },
        "id": "TigN8ZtDnD5Q",
        "outputId": "efd800e9-6804-4168-c1cd-5d13a64be38b"
      },
      "execution_count": null,
      "outputs": [
        {
          "output_type": "stream",
          "name": "stdout",
          "text": [
            "Data has been successfully saved to file name as OPP_update.csv\n",
            "  customer_id purchase_date product_category  amount_spent\n",
            "0        C001    2023-03-01      Electronics        250.00\n",
            "1        C002    2023-03-02            Books         45.50\n",
            "2        C003    2023-03-03    Home & Garden        150.75\n",
            "3        C001    2023-03-04            Books         20.00\n",
            "4        C002    2023-03-05      Electronics        525.00\n",
            "5        C005    2023-03-07           Beauty         75.00\n"
          ]
        }
      ]
    },
    {
      "cell_type": "code",
      "source": [
        "import pandas as pd\n",
        "\n",
        "class MarketingDataETL:\n",
        "    def __init__(self, url):\n",
        "        self.url = url\n",
        "        self.data = None\n",
        "\n",
        "    def extract(self):\n",
        "        # Read the CSV file into a pandas DataFrame\n",
        "        self.data = pd.read_csv(self.url, delimiter=';')\n",
        "        print(\"extract Done\")\n",
        "\n",
        "    def transform(self):\n",
        "        # Drop rows with missing values (NA)\n",
        "        if self.data is not None:\n",
        "            self.data.dropna(inplace=True)\n",
        "            # Convert 'purchase_date' column to datetime format (YYYY-MM-DD)\n",
        "            self.data['purchase_date'] = pd.to_datetime(self.data['purchase_date'], format='%d/%m/%y')\n",
        "            # Reformat 'purchase_date' column to YYYY-MM-DD\n",
        "            self.data['purchase_date'] = self.data['purchase_date'].dt.strftime('%Y-%m-%d')\n",
        "            print(\"transform Done\")\n",
        "\n",
        "    def store(self, output_file):\n",
        "        # Store the transformed DataFrame to a CSV file\n",
        "        if self.data is not None:\n",
        "            self.data.to_csv(output_file, index=False)\n",
        "            print(\"store Done\")\n",
        "\n",
        "# Example usage:\n",
        "if __name__ == \"__main__\":\n",
        "    # Define the URL of the CSV file\n",
        "    url = \"https://drive.google.com/uc?id=13wg8hC7kpMSzNeS2c27dTKplRKkLgNfn\"\n",
        "\n",
        "    # Initialize the ETL class with the URL\n",
        "    etl_processor = MarketingDataETL(url)\n",
        "\n",
        "    # Extract data\n",
        "    etl_processor.extract()\n",
        "\n",
        "    # Transform data (remove NA values and reformat dates)\n",
        "    etl_processor.transform()\n",
        "\n",
        "    # Store the transformed data into a CSV file\n",
        "    etl_processor.store(\"transformed_marketing_data.csv\")"
      ],
      "metadata": {
        "id": "8UI26k8UjnEM",
        "colab": {
          "base_uri": "https://localhost:8080/"
        },
        "outputId": "17c8ed47-c47f-466f-d73a-38aba934b0d0"
      },
      "execution_count": null,
      "outputs": [
        {
          "output_type": "stream",
          "name": "stdout",
          "text": [
            "extract Done\n",
            "transform Done\n",
            "store Done\n",
            "  customer_id purchase_date product_category  amount_spent\n",
            "0        C001    2023-03-01      Electronics        250.00\n",
            "1        C002    2023-03-02            Books         45.50\n",
            "2        C003    2023-03-03    Home & Garden        150.75\n",
            "3        C001    2023-03-04            Books         20.00\n",
            "4        C002    2023-03-05      Electronics        525.00\n",
            "5        C005    2023-03-07           Beauty         75.00\n"
          ]
        }
      ]
    },
    {
      "cell_type": "code",
      "source": [
        "# Read the CSV file into a pandas DataFrame\n",
        "df = pd.read_csv(\"transformed_marketing_data.csv\")\n",
        "\n",
        "# Display the DataFrame\n",
        "print(df)"
      ],
      "metadata": {
        "colab": {
          "base_uri": "https://localhost:8080/"
        },
        "id": "7sed7yoslE4H",
        "outputId": "078baeff-9364-4e4a-8dc3-28f593b2e8ed"
      },
      "execution_count": null,
      "outputs": [
        {
          "output_type": "stream",
          "name": "stdout",
          "text": [
            "  customer_id purchase_date product_category  amount_spent\n",
            "0        C001    2023-03-01      Electronics        250.00\n",
            "1        C002    2023-03-02            Books         45.50\n",
            "2        C003    2023-03-03    Home & Garden        150.75\n",
            "3        C001    2023-03-04            Books         20.00\n",
            "4        C002    2023-03-05      Electronics        525.00\n",
            "5        C005    2023-03-07           Beauty         75.00\n"
          ]
        }
      ]
    },
    {
      "cell_type": "markdown",
      "source": [
        "# Task 2: Inheritance & Polymorphism\n",
        "\n",
        "\n",
        "*   Gunakan inheritance untuk membuat class TargetedMarketingETL yang mewarisi dari MarketingDataETL.\n",
        "*   Tambahkan metode segment_customers() yang mengelompokkan pelanggan berdasarkan kriteria tertentu (misalnya, pengeluaran total atau kategori produk yang dibeli).\n",
        "*   Demonstrasi polymorphism dengan meng-override metode transform() dalam TargetedMarketingETL untuk menambahkan logika segmentasi pelanggan ke dalam proses transformasi.\n",
        "\n",
        "\n",
        "\n",
        "\n",
        "\n",
        "\n",
        "\n",
        "\n"
      ],
      "metadata": {
        "id": "FkyItNaoqv5E"
      }
    },
    {
      "cell_type": "code",
      "source": [
        "#Inheritance\n",
        "import pandas as pd\n",
        "\n",
        "class MarketingDataETL:\n",
        "    def __init__(self, url):\n",
        "        self.url = url\n",
        "        self.data = None\n",
        "\n",
        "    def extract(self):\n",
        "        # Read the CSV file into a pandas DataFrame\n",
        "        self.data = pd.read_csv(self.url, delimiter=';')\n",
        "\n",
        "    def transform(self):\n",
        "        # Drop rows with missing values (NA)\n",
        "        if self.data is not None:\n",
        "            self.data.dropna(inplace=True)\n",
        "            # Convert 'purchase_date' column to datetime format (YYYY-MM-DD)\n",
        "            self.data['purchase_date'] = pd.to_datetime(self.data['purchase_date'], format='%d/%m/%y')\n",
        "            # Reformat 'purchase_date' column to YYYY-MM-DD\n",
        "            self.data['purchase_date'] = self.data['purchase_date'].dt.strftime('%Y-%m-%d')\n",
        "\n",
        "    def store(self, output_file):\n",
        "        # Store the transformed DataFrame to a CSV file\n",
        "        if self.data is not None:\n",
        "            self.data.to_csv(output_file, index=False)\n",
        "\n",
        "class TargetedMarketingETL(MarketingDataETL):\n",
        "    def segment_customers(self):\n",
        "        if self.data is not None:\n",
        "            # Categorize customers based on amount_spent\n",
        "            bins = [0, 100, 300, 500, float('inf')]\n",
        "            labels = ['Bronze', 'Silver', 'Gold', 'Platinum']\n",
        "            self.data['membership_rank'] = pd.cut(self.data['amount_spent'], bins=bins, labels=labels, right=False)\n",
        "\n",
        "# Example usage:\n",
        "url = \"https://drive.google.com/uc?id=13wg8hC7kpMSzNeS2c27dTKplRKkLgNfn\"\n",
        "etl_processor = TargetedMarketingETL(url)\n",
        "etl_processor.extract()\n",
        "etl_processor.transform()\n",
        "etl_processor.segment_customers()\n",
        "etl_processor.store(\"transformed_data.csv\")\n",
        "\n",
        "# Read the CSV file into a pandas DataFrame\n",
        "df = pd.read_csv(\"transformed_data.csv\")\n",
        "\n",
        "# Display the DataFrame\n",
        "print(df)"
      ],
      "metadata": {
        "colab": {
          "base_uri": "https://localhost:8080/"
        },
        "id": "bvtes9-Gqo_E",
        "outputId": "4ca5613d-7e0b-48aa-836a-39cbf522dc43"
      },
      "execution_count": null,
      "outputs": [
        {
          "output_type": "stream",
          "name": "stdout",
          "text": [
            "  customer_id purchase_date product_category  amount_spent membership_rank\n",
            "0        C001    2023-03-01      Electronics        250.00          Silver\n",
            "1        C002    2023-03-02            Books         45.50          Bronze\n",
            "2        C003    2023-03-03    Home & Garden        150.75          Silver\n",
            "3        C001    2023-03-04            Books         20.00          Bronze\n",
            "4        C002    2023-03-05      Electronics        525.00        Platinum\n",
            "5        C005    2023-03-07           Beauty         75.00          Bronze\n"
          ]
        }
      ]
    },
    {
      "cell_type": "code",
      "source": [
        "#Polymorphism\n",
        "import pandas as pd\n",
        "\n",
        "class MarketingDataETL:\n",
        "    def __init__(self, url):\n",
        "        self.url = url\n",
        "        self.data = None\n",
        "\n",
        "    def extract(self):\n",
        "        # Read the CSV file into a pandas DataFrame\n",
        "        self.data = pd.read_csv(self.url, delimiter=';')\n",
        "\n",
        "    def transform(self):\n",
        "        # Drop rows with missing values (NA)\n",
        "        if self.data is not None:\n",
        "            self.data.dropna(inplace=True)\n",
        "            # Convert 'purchase_date' column to datetime format (YYYY-MM-DD)\n",
        "            self.data['purchase_date'] = pd.to_datetime(self.data['purchase_date'], format='%d/%m/%y')\n",
        "            # Reformat 'purchase_date' column to YYYY-MM-DD\n",
        "            self.data['purchase_date'] = self.data['purchase_date'].dt.strftime('%Y-%m-%d')\n",
        "\n",
        "    def store(self, output_file):\n",
        "        # Store the transformed DataFrame to a CSV file\n",
        "        if self.data is not None:\n",
        "            self.data.to_csv(output_file, index=False)\n",
        "\n",
        "class TargetedMarketingETL(MarketingDataETL):\n",
        "    def segment_customers(self):\n",
        "        if self.data is not None:\n",
        "            # Categorize customers based on amount_spent\n",
        "            bins = [0, 100, 300, 500, float('inf')]\n",
        "            labels = ['Bronze', 'Silver', 'Gold', 'Platinum']\n",
        "            self.data['membership_rank'] = pd.cut(self.data['amount_spent'], bins=bins, labels=labels, right=False)\n",
        "\n",
        "    def transform(self):\n",
        "        # Call the parent class's transform method to perform initial transformations\n",
        "        super().transform()\n",
        "\n",
        "        # Additional transformation specific to TargetedMarketingETL\n",
        "        self.segment_customers()\n",
        "\n",
        "class MarketingDataViewer:\n",
        "    def display(self, data):\n",
        "        # Default display method just prints the DataFrame\n",
        "        print(data)\n",
        "\n",
        "# URL sumber data\n",
        "url = \"https://drive.google.com/uc?id=13wg8hC7kpMSzNeS2c27dTKplRKkLgNfn\"\n",
        "\n",
        "# Proses ETL menggunakan kelas TargetedMarketingETL\n",
        "etl_processor = TargetedMarketingETL(url)\n",
        "\n",
        "# Ekstraksi, transformasi, dan segmentasi pelanggan\n",
        "etl_processor.extract()\n",
        "etl_processor.transform()  # Metode transform overridden\n",
        "etl_processor.store(\"transformed_data.csv\")\n",
        "\n",
        "# Membaca data hasil transformasi ke dalam DataFrame\n",
        "df = pd.read_csv(\"transformed_data.csv\")\n",
        "\n",
        "# Membuat objek MarketingDataViewer\n",
        "viewer = MarketingDataViewer()\n",
        "\n",
        "# Menampilkan DataFrame menggunakan polymorphism\n",
        "viewer.display(df)"
      ],
      "metadata": {
        "colab": {
          "base_uri": "https://localhost:8080/"
        },
        "id": "cfn37qegwCXJ",
        "outputId": "3026f1b9-ccd2-46c6-ae41-87d7b2dc2fff"
      },
      "execution_count": null,
      "outputs": [
        {
          "output_type": "stream",
          "name": "stdout",
          "text": [
            "  customer_id purchase_date product_category  amount_spent membership_rank\n",
            "0        C001    2023-03-01      Electronics        250.00          Silver\n",
            "1        C002    2023-03-02            Books         45.50          Bronze\n",
            "2        C003    2023-03-03    Home & Garden        150.75          Silver\n",
            "3        C001    2023-03-04            Books         20.00          Bronze\n",
            "4        C002    2023-03-05      Electronics        525.00        Platinum\n",
            "5        C005    2023-03-07           Beauty         75.00          Bronze\n"
          ]
        }
      ]
    }
  ]
}